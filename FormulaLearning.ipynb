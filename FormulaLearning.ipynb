{
 "cells": [
  {
   "cell_type": "code",
   "execution_count": 19,
   "metadata": {},
   "outputs": [],
   "source": [
    "import numpy as np\n",
    "from scipy.optimize import least_squares\n"
   ]
  },
  {
   "cell_type": "code",
   "execution_count": 20,
   "metadata": {},
   "outputs": [
    {
     "name": "stdout",
     "output_type": "stream",
     "text": [
      "Dataframe with renamed columns based on variance:\n",
      "          s         a         h\n",
      "0  2.343741  2.299612  9.312727\n",
      "1  2.291577  2.325804  8.796689\n",
      "2  2.088251  2.305492  8.465601\n",
      "3  1.862871  2.251594  8.339330\n",
      "4  1.898391  2.154092  8.541755\n"
     ]
    }
   ],
   "source": [
    "import numpy as np\n",
    "import pandas as pd\n",
    "\n",
    "# Load the dataset\n",
    "df = pd.read_csv('datasets/acc_data_inseconds.csv')\n",
    "\n",
    "# Ensure there are no more than 3000 rows\n",
    "df = df.iloc[:3000]\n",
    "\n",
    "# Extract only the 'X', 'Y', 'Z' columns\n",
    "data = df[['X', 'Y', 'Z']]\n",
    "\n",
    "chunk_size = 100\n",
    "num_chunks = int(len(df) / chunk_size)\n",
    "\n",
    "average_variances = np.zeros(3)  # There are 3 dimensions: X, Y, Z\n",
    "\n",
    "# Calculate the average variance for each dimension\n",
    "for i in range(3):\n",
    "    column_variances = [\n",
    "        np.var(data.iloc[j * chunk_size:(j + 1) * chunk_size, i]) for j in range(num_chunks)\n",
    "    ]\n",
    "    average_variances[i] = np.mean(column_variances)\n",
    "\n",
    "# Sort the indices of average_variances in descending order of variance\n",
    "ordered_indices = np.argsort(average_variances)[::-1]\n",
    "\n",
    "# Create a dictionary mapping old column names to new ones based on variance\n",
    "columns_map = {data.columns[i]: ('h', 'a', 's')[index] for i, index in enumerate(ordered_indices)}\n",
    "\n",
    "# Rename the columns using the mapping dictionary\n",
    "data_renamed = data.rename(columns=columns_map)\n",
    "\n",
    "print(\"Dataframe with renamed columns based on variance:\")\n",
    "print(data_renamed.head())\n"
   ]
  },
  {
   "cell_type": "code",
   "execution_count": 21,
   "metadata": {},
   "outputs": [],
   "source": [
    "# Given system parameters (for simulation)\n",
    "g = 9.81  # gravity constant\n"
   ]
  },
  {
   "cell_type": "code",
   "execution_count": 22,
   "metadata": {},
   "outputs": [],
   "source": [
    "n_samples = len(df)\n",
    "theta = np.random.rand(n_samples) * 2 * np.pi  # Uniformly distributed angles\n",
    "h = data_renamed['h'].values  # Random vertical accelerations\n",
    "a = data_renamed['a'].values  # Random horizontal accelerations\n"
   ]
  },
  {
   "cell_type": "code",
   "execution_count": 23,
   "metadata": {},
   "outputs": [],
   "source": [
    "# Calculate actual horizontal and vertical accelerations based on given dynamics\n",
    "A_H = (h - g) * np.sin(theta) + a * np.cos(theta)\n",
    "A_v = (h - g) * np.cos(theta) - a * np.sin(theta)\n"
   ]
  },
  {
   "cell_type": "code",
   "execution_count": 24,
   "metadata": {},
   "outputs": [],
   "source": [
    "# Build the library of functions (nonlinear transformation)\n",
    "# In this case, we have sin(theta), cos(theta), h*sin(theta), h*cos(theta), a*sin(theta), and a*cos(theta)\n",
    "library = np.column_stack((np.sin(theta), np.cos(theta), h * np.sin(theta), h * np.cos(theta), a * np.sin(theta), a * np.cos(theta)))\n"
   ]
  },
  {
   "cell_type": "code",
   "execution_count": 31,
   "metadata": {},
   "outputs": [],
   "source": [
    "# Sparse regression function using least squares and manual sparsity\n",
    "def sparse_regression(library, target, sparsity_threshold=0.5):\n",
    "    # Least squares fit\n",
    "    res = least_squares(lambda coef: library @ coef - target, np.zeros(library.shape[1]))\n",
    "    coef = res.x\n",
    "    # Enforce sparsity by zeroing out small coefficients\n",
    "    sparse_coef = coef * (np.abs(coef) > sparsity_threshold)\n",
    "    return sparse_coef\n",
    "\n",
    "\n"
   ]
  },
  {
   "cell_type": "code",
   "execution_count": 32,
   "metadata": {},
   "outputs": [],
   "source": [
    "# Perform sparse regression for horizontal and vertical accelerations\n",
    "coefficients_H = sparse_regression(library, A_H)\n",
    "coefficients_v = sparse_regression(library, A_v)\n"
   ]
  },
  {
   "cell_type": "code",
   "execution_count": 33,
   "metadata": {},
   "outputs": [
    {
     "name": "stdout",
     "output_type": "stream",
     "text": [
      "Identified coefficients for A_H(t): [-9.81  0.    1.   -0.    0.    1.  ]\n",
      "Identified coefficients for A_v(t): [ 0.   -9.81  0.    1.   -1.    0.  ]\n"
     ]
    }
   ],
   "source": [
    "print(\"Identified coefficients for A_H(t):\", coefficients_H)\n",
    "print(\"Identified coefficients for A_v(t):\", coefficients_v)\n"
   ]
  }
 ],
 "metadata": {
  "kernelspec": {
   "display_name": "Python 3",
   "language": "python",
   "name": "python3"
  },
  "language_info": {
   "codemirror_mode": {
    "name": "ipython",
    "version": 3
   },
   "file_extension": ".py",
   "mimetype": "text/x-python",
   "name": "python",
   "nbconvert_exporter": "python",
   "pygments_lexer": "ipython3",
   "version": "3.9.6"
  }
 },
 "nbformat": 4,
 "nbformat_minor": 2
}
